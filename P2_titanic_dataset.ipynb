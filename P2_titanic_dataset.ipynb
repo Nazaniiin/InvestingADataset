{
 "cells": [
  {
   "cell_type": "markdown",
   "metadata": {},
   "source": [
    "\n",
    "### Project Introduction and Description - Titanic Dataset\n",
    "\n",
    "1. You should start by taking a look at your dataset and brainstorming what questions you could answer using it.\n",
    "2. Then you should use Pandas and NumPy to answer the questions you are most interested in, and create a report sharing the answers. \n",
    "\n",
    "This project is open-ended in that we are not looking for one right answer.\n",
    "\n",
    "Titanic Data - Contains demographics and passenger information from 891 of the 2224 passengers and crew on board the Titanic. \n",
    "You can view a description of this dataset on the Kaggle website, where the data was obtained.\n",
    "https://www.kaggle.com/c/titanic/data"
   ]
  },
  {
   "cell_type": "markdown",
   "metadata": {},
   "source": [
    "### Table of Content:\n",
    "    1. Quality of Analysis - Questions\n",
    "    2. Data Wrangling - Data Investigation and Cleaning\n",
    "        2.1. Overview of the dataset\n",
    "        2.2. Removing unnecessary columns\n",
    "        2.3. Dealing with NaN values in Age\n",
    "        2.4. Dealing with NaN values in Embarked\n",
    "        2.5. Merging Siblings and Parents Columns to One Cloumn Named Family\n",
    "        2.6. Getting the final view of the table after cleaning up the data\n",
    "    3. Exploration - Visualizations and Statistical Summaries\n",
    "        3.1. Plots\n",
    "        3.2. Correlations\n",
    "        3.3. Confidence Intervals\n",
    "    4. Limitations of the Analysis\n",
    "        4.1. Missing Values in the Age Category\n",
    "        4.2. Limitations of Making Assumptions without Statistical Testing\n",
    "        4.3. Does Correlation Mean Causation?\n",
    "        4.4. Any Other Data That Could Help in the Analysis\n",
    "    5. Conclusions - Communication of Findings\n",
    "        5.1. Findings on Cabin\n",
    "        5.2. Findings on Family\n",
    "        5.3. Findings on Women\n",
    "        5.4. Findings on Age\n",
    "    6. References"
   ]
  },
  {
   "cell_type": "markdown",
   "metadata": {},
   "source": [
    "### 1. Quality of Analysis - Questions\n",
    "\n",
    "1. How does the class rank (1st, 2nd, 3rd) correlates with the rate of survival?\n",
    "2. Did those who were a family have a higher chance or survival than those who were travelling alone?\n",
    "3. How did the rate of survival differ among women in the difference classes? (i.e. number of women in a higher class who survived were more than women who survived but were in a a lower class rate)\n",
    "4. How does age correlates with the rate of survival?\n"
   ]
  },
  {
   "cell_type": "markdown",
   "metadata": {},
   "source": [
    "### 2. Data Wrangling - Data Investigation and Cleaning"
   ]
  },
  {
   "cell_type": "code",
   "execution_count": 4,
   "metadata": {
    "collapsed": false
   },
   "outputs": [
    {
     "name": "stdout",
     "output_type": "stream",
     "text": [
      "Populating the interactive namespace from numpy and matplotlib\n"
     ]
    }
   ],
   "source": [
    "#The initial imports\n",
    "\n",
    "import pandas as pd\n",
    "from pandas import DataFrame, Series\n",
    "import numpy as np\n",
    "import matplotlib.pyplot as plt\n",
    "import seaborn as sns\n",
    "\n",
    "#To show visualizations in iPython\n",
    "%matplotlib inline\n",
    "%pylab inline"
   ]
  },
  {
   "cell_type": "markdown",
   "metadata": {},
   "source": [
    "#### 2.1. Overview of the dataset"
   ]
  },
  {
   "cell_type": "code",
   "execution_count": 6,
   "metadata": {
    "collapsed": false
   },
   "outputs": [
    {
     "data": {
      "text/html": [
       "<div>\n",
       "<table border=\"1\" class=\"dataframe\">\n",
       "  <thead>\n",
       "    <tr style=\"text-align: right;\">\n",
       "      <th></th>\n",
       "      <th>PassengerId</th>\n",
       "      <th>Survived</th>\n",
       "      <th>Pclass</th>\n",
       "      <th>Name</th>\n",
       "      <th>Sex</th>\n",
       "      <th>Age</th>\n",
       "      <th>SibSp</th>\n",
       "      <th>Parch</th>\n",
       "      <th>Ticket</th>\n",
       "      <th>Fare</th>\n",
       "      <th>Cabin</th>\n",
       "      <th>Embarked</th>\n",
       "    </tr>\n",
       "  </thead>\n",
       "  <tbody>\n",
       "    <tr>\n",
       "      <th>0</th>\n",
       "      <td>1</td>\n",
       "      <td>0</td>\n",
       "      <td>3</td>\n",
       "      <td>Braund, Mr. Owen Harris</td>\n",
       "      <td>male</td>\n",
       "      <td>22.0</td>\n",
       "      <td>1</td>\n",
       "      <td>0</td>\n",
       "      <td>A/5 21171</td>\n",
       "      <td>7.2500</td>\n",
       "      <td>NaN</td>\n",
       "      <td>S</td>\n",
       "    </tr>\n",
       "    <tr>\n",
       "      <th>1</th>\n",
       "      <td>2</td>\n",
       "      <td>1</td>\n",
       "      <td>1</td>\n",
       "      <td>Cumings, Mrs. John Bradley (Florence Briggs Th...</td>\n",
       "      <td>female</td>\n",
       "      <td>38.0</td>\n",
       "      <td>1</td>\n",
       "      <td>0</td>\n",
       "      <td>PC 17599</td>\n",
       "      <td>71.2833</td>\n",
       "      <td>C85</td>\n",
       "      <td>C</td>\n",
       "    </tr>\n",
       "    <tr>\n",
       "      <th>2</th>\n",
       "      <td>3</td>\n",
       "      <td>1</td>\n",
       "      <td>3</td>\n",
       "      <td>Heikkinen, Miss. Laina</td>\n",
       "      <td>female</td>\n",
       "      <td>26.0</td>\n",
       "      <td>0</td>\n",
       "      <td>0</td>\n",
       "      <td>STON/O2. 3101282</td>\n",
       "      <td>7.9250</td>\n",
       "      <td>NaN</td>\n",
       "      <td>S</td>\n",
       "    </tr>\n",
       "    <tr>\n",
       "      <th>3</th>\n",
       "      <td>4</td>\n",
       "      <td>1</td>\n",
       "      <td>1</td>\n",
       "      <td>Futrelle, Mrs. Jacques Heath (Lily May Peel)</td>\n",
       "      <td>female</td>\n",
       "      <td>35.0</td>\n",
       "      <td>1</td>\n",
       "      <td>0</td>\n",
       "      <td>113803</td>\n",
       "      <td>53.1000</td>\n",
       "      <td>C123</td>\n",
       "      <td>S</td>\n",
       "    </tr>\n",
       "    <tr>\n",
       "      <th>4</th>\n",
       "      <td>5</td>\n",
       "      <td>0</td>\n",
       "      <td>3</td>\n",
       "      <td>Allen, Mr. William Henry</td>\n",
       "      <td>male</td>\n",
       "      <td>35.0</td>\n",
       "      <td>0</td>\n",
       "      <td>0</td>\n",
       "      <td>373450</td>\n",
       "      <td>8.0500</td>\n",
       "      <td>NaN</td>\n",
       "      <td>S</td>\n",
       "    </tr>\n",
       "  </tbody>\n",
       "</table>\n",
       "</div>"
      ],
      "text/plain": [
       "   PassengerId  Survived  Pclass  \\\n",
       "0            1         0       3   \n",
       "1            2         1       1   \n",
       "2            3         1       3   \n",
       "3            4         1       1   \n",
       "4            5         0       3   \n",
       "\n",
       "                                                Name     Sex   Age  SibSp  \\\n",
       "0                            Braund, Mr. Owen Harris    male  22.0      1   \n",
       "1  Cumings, Mrs. John Bradley (Florence Briggs Th...  female  38.0      1   \n",
       "2                             Heikkinen, Miss. Laina  female  26.0      0   \n",
       "3       Futrelle, Mrs. Jacques Heath (Lily May Peel)  female  35.0      1   \n",
       "4                           Allen, Mr. William Henry    male  35.0      0   \n",
       "\n",
       "   Parch            Ticket     Fare Cabin Embarked  \n",
       "0      0         A/5 21171   7.2500   NaN        S  \n",
       "1      0          PC 17599  71.2833   C85        C  \n",
       "2      0  STON/O2. 3101282   7.9250   NaN        S  \n",
       "3      0            113803  53.1000  C123        S  \n",
       "4      0            373450   8.0500   NaN        S  "
      ]
     },
     "execution_count": 6,
     "metadata": {},
     "output_type": "execute_result"
    }
   ],
   "source": [
    "#Get and read the titatic data\n",
    "titanic_df = pd.read_csv('/Users/nazaninmirarab/Desktop/Data Science/P2/titanic_data.csv')\n",
    "\n",
    "#Preview the first 5 rows of the data\n",
    "titanic_df.head()"
   ]
  },
  {
   "cell_type": "code",
   "execution_count": 7,
   "metadata": {
    "collapsed": false
   },
   "outputs": [
    {
     "name": "stdout",
     "output_type": "stream",
     "text": [
      "<class 'pandas.core.frame.DataFrame'>\n",
      "RangeIndex: 891 entries, 0 to 890\n",
      "Data columns (total 12 columns):\n",
      "PassengerId    891 non-null int64\n",
      "Survived       891 non-null int64\n",
      "Pclass         891 non-null int64\n",
      "Name           891 non-null object\n",
      "Sex            891 non-null object\n",
      "Age            714 non-null float64\n",
      "SibSp          891 non-null int64\n",
      "Parch          891 non-null int64\n",
      "Ticket         891 non-null object\n",
      "Fare           891 non-null float64\n",
      "Cabin          204 non-null object\n",
      "Embarked       889 non-null object\n",
      "dtypes: float64(2), int64(5), object(5)\n",
      "memory usage: 83.6+ KB\n"
     ]
    }
   ],
   "source": [
    "#Getting some information about the numbers and types of the data available in the CSV file\n",
    "titanic_df.info()    "
   ]
  },
  {
   "cell_type": "markdown",
   "metadata": {},
   "source": [
    "#### 2.2. Removing unnecessary columns"
   ]
  },
  {
   "cell_type": "markdown",
   "metadata": {},
   "source": [
    "As shown in the information executed above, the number of PassengerID, Survived, PClass, Name, Sex, SibSp, Parch, Ticket and Fare are all equal, meaning that information is available for all of them.\n",
    "\n",
    "However, for Cabin numbers, there are quite many NaN values. Therefore, I decided to remove the Cabin variable since it has a lot of NaN values and is not included in any of the calculations in my analysis. I also remove Name and Ticket columns to make the table less corwded since I do not use them in my analysis"
   ]
  },
  {
   "cell_type": "code",
   "execution_count": 8,
   "metadata": {
    "collapsed": false
   },
   "outputs": [],
   "source": [
    "#dropping Cabin field from the table\n",
    "titanic_df.drop('Cabin', axis=1, inplace=True)\n",
    "\n",
    "#removing Name and Ticket columns\n",
    "titanic_df.drop(['Ticket', 'Name'], axis=1, inplace=True)"
   ]
  },
  {
   "cell_type": "code",
   "execution_count": 9,
   "metadata": {
    "collapsed": false
   },
   "outputs": [
    {
     "data": {
      "text/html": [
       "<div>\n",
       "<table border=\"1\" class=\"dataframe\">\n",
       "  <thead>\n",
       "    <tr style=\"text-align: right;\">\n",
       "      <th></th>\n",
       "      <th>PassengerId</th>\n",
       "      <th>Survived</th>\n",
       "      <th>Pclass</th>\n",
       "      <th>Sex</th>\n",
       "      <th>Age</th>\n",
       "      <th>SibSp</th>\n",
       "      <th>Parch</th>\n",
       "      <th>Fare</th>\n",
       "      <th>Embarked</th>\n",
       "    </tr>\n",
       "  </thead>\n",
       "  <tbody>\n",
       "    <tr>\n",
       "      <th>0</th>\n",
       "      <td>1</td>\n",
       "      <td>0</td>\n",
       "      <td>3</td>\n",
       "      <td>male</td>\n",
       "      <td>22.0</td>\n",
       "      <td>1</td>\n",
       "      <td>0</td>\n",
       "      <td>7.2500</td>\n",
       "      <td>S</td>\n",
       "    </tr>\n",
       "    <tr>\n",
       "      <th>1</th>\n",
       "      <td>2</td>\n",
       "      <td>1</td>\n",
       "      <td>1</td>\n",
       "      <td>female</td>\n",
       "      <td>38.0</td>\n",
       "      <td>1</td>\n",
       "      <td>0</td>\n",
       "      <td>71.2833</td>\n",
       "      <td>C</td>\n",
       "    </tr>\n",
       "    <tr>\n",
       "      <th>2</th>\n",
       "      <td>3</td>\n",
       "      <td>1</td>\n",
       "      <td>3</td>\n",
       "      <td>female</td>\n",
       "      <td>26.0</td>\n",
       "      <td>0</td>\n",
       "      <td>0</td>\n",
       "      <td>7.9250</td>\n",
       "      <td>S</td>\n",
       "    </tr>\n",
       "    <tr>\n",
       "      <th>3</th>\n",
       "      <td>4</td>\n",
       "      <td>1</td>\n",
       "      <td>1</td>\n",
       "      <td>female</td>\n",
       "      <td>35.0</td>\n",
       "      <td>1</td>\n",
       "      <td>0</td>\n",
       "      <td>53.1000</td>\n",
       "      <td>S</td>\n",
       "    </tr>\n",
       "    <tr>\n",
       "      <th>4</th>\n",
       "      <td>5</td>\n",
       "      <td>0</td>\n",
       "      <td>3</td>\n",
       "      <td>male</td>\n",
       "      <td>35.0</td>\n",
       "      <td>0</td>\n",
       "      <td>0</td>\n",
       "      <td>8.0500</td>\n",
       "      <td>S</td>\n",
       "    </tr>\n",
       "  </tbody>\n",
       "</table>\n",
       "</div>"
      ],
      "text/plain": [
       "   PassengerId  Survived  Pclass     Sex   Age  SibSp  Parch     Fare Embarked\n",
       "0            1         0       3    male  22.0      1      0   7.2500        S\n",
       "1            2         1       1  female  38.0      1      0  71.2833        C\n",
       "2            3         1       3  female  26.0      0      0   7.9250        S\n",
       "3            4         1       1  female  35.0      1      0  53.1000        S\n",
       "4            5         0       3    male  35.0      0      0   8.0500        S"
      ]
     },
     "execution_count": 9,
     "metadata": {},
     "output_type": "execute_result"
    }
   ],
   "source": [
    "#Getting a new view of the Titanic dataset without the Cabin column included\n",
    "titanic_df.head()"
   ]
  },
  {
   "cell_type": "markdown",
   "metadata": {},
   "source": [
    "#### 2.3. Dealing with NaN values in Age"
   ]
  },
  {
   "cell_type": "markdown",
   "metadata": {},
   "source": [
    "The number of Ages available in the CSV file is 714, which means not all the passengers' ages have been specified. This is also visible from the first 10 rows of the data I printed out earlier. Some Ages are equal to NaN."
   ]
  },
  {
   "cell_type": "code",
   "execution_count": 10,
   "metadata": {
    "collapsed": false
   },
   "outputs": [
    {
     "name": "stdout",
     "output_type": "stream",
     "text": [
      "Mean: 29.6991176471\n",
      "Median: 28.0\n",
      "Standard Deviation: 14.5163211508\n",
      "Number of Nulls: 177\n"
     ]
    },
    {
     "data": {
      "image/png": "[encoded data removed]",
      "text/plain": [
       "<matplotlib.figure.Figure at 0x117537e10>"
      ]
     },
     "metadata": {},
     "output_type": "display_data"
    }
   ],
   "source": [
    "#get a histogram from the current Age values (including NaNs)\n",
    "plt = titanic_df['Age'].hist()\n",
    "plt.set_title('Age before removing the NaN values')\n",
    "plt.set_xlabel('Age')\n",
    "plt.set_ylabel('Number of Passengers')\n",
    "\n",
    "#Calculating the mean, standard deviation for the current Age values (including NaNs)\n",
    "mean_titanic = titanic_df['Age'].mean()\n",
    "median_titanic = titanic_df['Age'].median()\n",
    "standard_deviation_titanic = titanic_df['Age'].std(ddof=0)\n",
    "num_of_nulls_titanic = titanic_df['Age'].isnull().sum()\n",
    "\n",
    "print 'Mean:', mean_titanic\n",
    "print 'Median:', median_titanic\n",
    "print 'Standard Deviation:', standard_deviation_titanic\n",
    "print 'Number of Nulls:', num_of_nulls_titanic"
   ]
  },
  {
   "cell_type": "markdown",
   "metadata": {},
   "source": [
    "This chart shows the distribution of the age of passengers. based on the plot passengers were mostly between 20 to 40 years old.\n",
    "\n",
    "---------------------------------------------------------------------------------------------------------------------"
   ]
  },
  {
   "cell_type": "markdown",
   "metadata": {},
   "source": [
    "To resolve the issues with NaN values in Age, I substitute them with random numbers I generated based on the difference between the average age and the standard deviation calculated in the previous step.\n",
    "\n",
    "I use the np.random.randint to return random integers between 2-standard deviation below and above the mean. I used 2-standard deviation so that the numbers generated can have a wider range.\n",
    "\n",
    "http://docs.scipy.org/doc/numpy/reference/generated/numpy.random.randint.html#numpy.random.randint"
   ]
  },
  {
   "cell_type": "code",
   "execution_count": 11,
   "metadata": {
    "collapsed": true
   },
   "outputs": [],
   "source": [
    "#creating a new column Age_new to keep the current Age as is and add random ages to Age_new\n",
    "titanic_df['Age_new'] = titanic_df['Age']"
   ]
  },
  {
   "cell_type": "code",
   "execution_count": 12,
   "metadata": {
    "collapsed": false
   },
   "outputs": [
    {
     "name": "stdout",
     "output_type": "stream",
     "text": [
      "<class 'pandas.core.frame.DataFrame'>\n",
      "RangeIndex: 891 entries, 0 to 890\n",
      "Data columns (total 10 columns):\n",
      "PassengerId    891 non-null int64\n",
      "Survived       891 non-null int64\n",
      "Pclass         891 non-null int64\n",
      "Sex            891 non-null object\n",
      "Age            714 non-null float64\n",
      "SibSp          891 non-null int64\n",
      "Parch          891 non-null int64\n",
      "Fare           891 non-null float64\n",
      "Embarked       889 non-null object\n",
      "Age_new        891 non-null float64\n",
      "dtypes: float64(3), int64(5), object(2)\n",
      "memory usage: 69.7+ KB\n"
     ]
    },
    {
     "name": "stderr",
     "output_type": "stream",
     "text": [
      "/anaconda/lib/python2.7/site-packages/ipykernel/__main__.py:5: SettingWithCopyWarning: \n",
      "A value is trying to be set on a copy of a slice from a DataFrame\n",
      "\n",
      "See the caveats in the documentation: http://pandas.pydata.org/pandas-docs/stable/indexing.html#indexing-view-versus-copy\n"
     ]
    }
   ],
   "source": [
    "#generating random numbers between 2-std below and 2-std above the mean\n",
    "rand_age = np.random.randint(mean_titanic - (2 * standard_deviation_titanic), mean_titanic + (2 * standard_deviation_titanic), size = num_of_nulls_titanic)\n",
    "\n",
    "#replacing the NaN values with the random numbers. \n",
    "titanic_df['Age_new'][np.isnan(titanic_df['Age_new'])] = rand_age\n",
    "\n",
    "#Getting info to make sure the Age_new variable is added with the NaN values filled\n",
    "titanic_df.info()"
   ]
  },
  {
   "cell_type": "code",
   "execution_count": 13,
   "metadata": {
    "collapsed": false
   },
   "outputs": [
    {
     "name": "stdout",
     "output_type": "stream",
     "text": [
      "                 Age_new\n",
      "Sex    Pclass           \n",
      "female 1       33.489362\n",
      "       2       29.098684\n",
      "       3       24.496528\n",
      "male   1       40.298525\n",
      "       2       30.808611\n",
      "       3       27.479597\n"
     ]
    },
    {
     "data": {
      "image/png": "[encoded data removed]",
      "text/plain": [
       "<matplotlib.figure.Figure at 0x1175d9a10>"
      ]
     },
     "metadata": {},
     "output_type": "display_data"
    }
   ],
   "source": [
    "#Changing the data type from object to float64\n",
    "pd.to_numeric(titanic_df['Age_new'])\n",
    "titanic_df['Age_new'].astype(numpy.int64)\n",
    "\n",
    "#The new histogram of Ages_new with NaN values being filled by random numbers\n",
    "plt = titanic_df['Age_new'].hist()\n",
    "plt.set_title('Before(Orange) and after(Blue) filling the NaN values with Random Numbers')\n",
    "plt.set_xlabel('Age')\n",
    "plt.set_ylabel('Number of Passengers')\n",
    "\n",
    "#doing a comparison between how the ages of the passengers look after filling the NaN values with random numbers\n",
    "plt = titanic_df['Age'].hist(color='Orange')\n",
    "\n",
    "#Grouping the passengers' average age based on their Sex and Cabin rank \n",
    "print titanic_df.groupby(['Sex','Pclass'])[['Age_new']].mean()\n"
   ]
  },
  {
   "cell_type": "markdown",
   "metadata": {},
   "source": [
    "This chart shows a comparison of the distribution of the age of passengers after the NaN values are filled with the random numbers generated in the previous steps. The blue-color plot shows that the distribution has remained more or less the same, but now there are more ages to work with for the analysis."
   ]
  },
  {
   "cell_type": "markdown",
   "metadata": {},
   "source": [
    "#### 2.4. Dealing with NaN values in Embarked\n",
    "\n",
    "\n",
    "The Port of Embarkation is also missing for 2 passengers, for which the values are set to NaN. I check which of the three letters in embarked (C,Q,S) is the most repeated one, and I fill in the two NaN values with the most repeated letter."
   ]
  },
  {
   "cell_type": "code",
   "execution_count": 14,
   "metadata": {
    "collapsed": false
   },
   "outputs": [
    {
     "name": "stdout",
     "output_type": "stream",
     "text": [
      "S    644\n",
      "C    168\n",
      "Q     77\n",
      "Name: Embarked, dtype: int64\n"
     ]
    },
    {
     "data": {
      "text/plain": [
       "<matplotlib.text.Text at 0x11a352a90>"
      ]
     },
     "execution_count": 14,
     "metadata": {},
     "output_type": "execute_result"
    },
    {
     "data": {
      "image/png": "[encoded data removed]",
      "text/plain": [
       "<matplotlib.figure.Figure at 0x1175a0190>"
      ]
     },
     "metadata": {},
     "output_type": "display_data"
    }
   ],
   "source": [
    "#which of the three letters in embarked (C,Q,S) is the most repeated one\n",
    "print titanic_df['Embarked'].value_counts()\n",
    "\n",
    "#a histogram from the current Embarked values (including NaNs) based on Age\n",
    "plt = sns.barplot(y=\"Age_new\", x=\"Embarked\", data=titanic_df)\n",
    "plt.set_title('Port of Embarkation before Filling the NaN Values')"
   ]
  },
  {
   "cell_type": "code",
   "execution_count": 15,
   "metadata": {
    "collapsed": false
   },
   "outputs": [
    {
     "data": {
      "text/plain": [
       "<matplotlib.text.Text at 0x11a3ed050>"
      ]
     },
     "execution_count": 15,
     "metadata": {},
     "output_type": "execute_result"
    },
    {
     "data": {
      "image/png": "[encoded data removed]",
      "text/plain": [
       "<matplotlib.figure.Figure at 0x1175a9610>"
      ]
     },
     "metadata": {},
     "output_type": "display_data"
    }
   ],
   "source": [
    "#fill in the two NaN values in Embarked with the most repeated letter\n",
    "titanic_df['Embarked_new'] = titanic_df['Embarked'].fillna('S')\n",
    "\n",
    "#new histogram of Embarked_new with NaN values being filled by the most repeated letter, 'S'\n",
    "plt = sns.barplot(y=\"Age_new\", x=\"Embarked_new\", data=titanic_df)\n",
    "plt.set_title('Port of Embarkation after Filling the NaN Values')"
   ]
  },
  {
   "cell_type": "markdown",
   "metadata": {},
   "source": [
    "This chart shows the distribution of points of embarkation after the two NaN values have been filled with the most repeated letter 'S'. Since there were only 2 values that needed to be filled, the distribution of embarkations in the chart has no significant change."
   ]
  },
  {
   "cell_type": "code",
   "execution_count": 16,
   "metadata": {
    "collapsed": false
   },
   "outputs": [
    {
     "name": "stdout",
     "output_type": "stream",
     "text": [
      "<class 'pandas.core.frame.DataFrame'>\n",
      "RangeIndex: 891 entries, 0 to 890\n",
      "Data columns (total 11 columns):\n",
      "PassengerId     891 non-null int64\n",
      "Survived        891 non-null int64\n",
      "Pclass          891 non-null int64\n",
      "Sex             891 non-null object\n",
      "Age             714 non-null float64\n",
      "SibSp           891 non-null int64\n",
      "Parch           891 non-null int64\n",
      "Fare            891 non-null float64\n",
      "Embarked        889 non-null object\n",
      "Age_new         891 non-null float64\n",
      "Embarked_new    891 non-null object\n",
      "dtypes: float64(3), int64(5), object(3)\n",
      "memory usage: 76.6+ KB\n"
     ]
    }
   ],
   "source": [
    "#Getting a new view of the dataset information to see how the changes have been applied\n",
    "titanic_df.info()"
   ]
  },
  {
   "cell_type": "code",
   "execution_count": 17,
   "metadata": {
    "collapsed": false
   },
   "outputs": [
    {
     "name": "stdout",
     "output_type": "stream",
     "text": [
      "Embarked\n",
      "count     889\n",
      "unique      3\n",
      "top         S\n",
      "freq      644\n",
      "Name: Embarked, dtype: object\n",
      "---------------------------------\n",
      "Embarked_new\n",
      "count     891\n",
      "unique      3\n",
      "top         S\n",
      "freq      646\n",
      "Name: Embarked_new, dtype: object\n"
     ]
    }
   ],
   "source": [
    "#Get some info about the Embarked and Embarked_new lists\n",
    "\n",
    "print 'Embarked'\n",
    "print titanic_df['Embarked'].describe()\n",
    "print '---------------------------------'\n",
    "print 'Embarked_new'\n",
    "print titanic_df['Embarked_new'].describe()"
   ]
  },
  {
   "cell_type": "markdown",
   "metadata": {},
   "source": [
    "---------------------------------------------------------------------------------------------------------------------\n",
    "\n",
    "Executing the following cell will cause an error, but the error is because of the NaN values. I however included the NaN values analysis in this cell just to show how filling them with the median changed calculations."
   ]
  },
  {
   "cell_type": "code",
   "execution_count": 18,
   "metadata": {
    "collapsed": false
   },
   "outputs": [
    {
     "name": "stdout",
     "output_type": "stream",
     "text": [
      "Age\n",
      "count    714.000000\n",
      "mean      29.699118\n",
      "std       14.526497\n",
      "min        0.420000\n",
      "25%             NaN\n",
      "50%             NaN\n",
      "75%             NaN\n",
      "max       80.000000\n",
      "Name: Age, dtype: float64\n",
      "---------------------------------\n",
      "Age_new\n",
      "count    891.000000\n",
      "mean      29.928361\n",
      "std       15.056138\n",
      "min        0.000000\n",
      "25%       20.000000\n",
      "50%       28.000000\n",
      "75%       40.000000\n",
      "max       80.000000\n",
      "Name: Age_new, dtype: float64\n"
     ]
    },
    {
     "name": "stderr",
     "output_type": "stream",
     "text": [
      "//anaconda/lib/python2.7/site-packages/numpy/lib/function_base.py:3834: RuntimeWarning: Invalid value encountered in percentile\n",
      "  RuntimeWarning)\n"
     ]
    }
   ],
   "source": [
    "#Get some info about the Age and Age_new lists. \n",
    "print 'Age'\n",
    "print titanic_df['Age'].describe()\n",
    "print '---------------------------------'\n",
    "print 'Age_new'\n",
    "print titanic_df['Age_new'].describe()"
   ]
  },
  {
   "cell_type": "markdown",
   "metadata": {},
   "source": [
    "#### 2.5. Merging Siblings and Parents Columns to One Cloumn Named Family\n",
    "\n",
    "Adding Siblings and Children column together as one whole Family column. Using the Family column, I will do the analysis of how likely people were to survive in case they had any family members.\n",
    "\n",
    "I got the idea to do this from one of the submissions on Kaggle:\n",
    "\n",
    "https://www.kaggle.com/omarelgabry/titanic/a-journey-through-titanic/comments"
   ]
  },
  {
   "cell_type": "code",
   "execution_count": 19,
   "metadata": {
    "collapsed": false
   },
   "outputs": [],
   "source": [
    "#merging the siblings and parents columns to one column named Family\n",
    "titanic_df['Family'] = titanic_df['SibSp'] + titanic_df['Parch']\n",
    "\n",
    "#Dropping SibSp and Parch as now they are merged together by Family\n",
    "titanic_df.drop(['SibSp', 'Parch'], axis=1, inplace=True)\n",
    "\n",
    "#Dropping Age and Embarked columns since I do the analysis on Age_new and Embarked_new columns\n",
    "titanic_df.drop(['Age', 'Embarked'], axis=1, inplace=True)"
   ]
  },
  {
   "cell_type": "code",
   "execution_count": 20,
   "metadata": {
    "collapsed": false
   },
   "outputs": [
    {
     "data": {
      "text/plain": [
       "<matplotlib.text.Text at 0x11a577bd0>"
      ]
     },
     "execution_count": 20,
     "metadata": {},
     "output_type": "execute_result"
    },
    {
     "data": {
      "image/png": "[encoded data removed]",
      "text/plain": [
       "<matplotlib.figure.Figure at 0x11a388210>"
      ]
     },
     "metadata": {},
     "output_type": "display_data"
    }
   ],
   "source": [
    "plt = titanic_df['Family'].hist()\n",
    "plt.set_title('Family Distribution among All the Passengers')\n",
    "plt.set_xlabel('Family Members')\n",
    "plt.set_ylabel('Number of Passengers')"
   ]
  },
  {
   "cell_type": "markdown",
   "metadata": {},
   "source": [
    "This chart shows the distribution of passengers with family members after the siblings and parents columns have been merged together. The chart shows that the number of passengers with zero to 2/3 family members are more."
   ]
  },
  {
   "cell_type": "markdown",
   "metadata": {},
   "source": [
    "#### 2.6. Getting the final view of the table "
   ]
  },
  {
   "cell_type": "code",
   "execution_count": 21,
   "metadata": {
    "collapsed": false
   },
   "outputs": [
    {
     "data": {
      "text/html": [
       "<div>\n",
       "<table border=\"1\" class=\"dataframe\">\n",
       "  <thead>\n",
       "    <tr style=\"text-align: right;\">\n",
       "      <th></th>\n",
       "      <th>PassengerId</th>\n",
       "      <th>Survived</th>\n",
       "      <th>Pclass</th>\n",
       "      <th>Sex</th>\n",
       "      <th>Fare</th>\n",
       "      <th>Age_new</th>\n",
       "      <th>Embarked_new</th>\n",
       "      <th>Family</th>\n",
       "    </tr>\n",
       "  </thead>\n",
       "  <tbody>\n",
       "    <tr>\n",
       "      <th>0</th>\n",
       "      <td>1</td>\n",
       "      <td>0</td>\n",
       "      <td>3</td>\n",
       "      <td>male</td>\n",
       "      <td>7.2500</td>\n",
       "      <td>22.0</td>\n",
       "      <td>S</td>\n",
       "      <td>1</td>\n",
       "    </tr>\n",
       "    <tr>\n",
       "      <th>1</th>\n",
       "      <td>2</td>\n",
       "      <td>1</td>\n",
       "      <td>1</td>\n",
       "      <td>female</td>\n",
       "      <td>71.2833</td>\n",
       "      <td>38.0</td>\n",
       "      <td>C</td>\n",
       "      <td>1</td>\n",
       "    </tr>\n",
       "    <tr>\n",
       "      <th>2</th>\n",
       "      <td>3</td>\n",
       "      <td>1</td>\n",
       "      <td>3</td>\n",
       "      <td>female</td>\n",
       "      <td>7.9250</td>\n",
       "      <td>26.0</td>\n",
       "      <td>S</td>\n",
       "      <td>0</td>\n",
       "    </tr>\n",
       "    <tr>\n",
       "      <th>3</th>\n",
       "      <td>4</td>\n",
       "      <td>1</td>\n",
       "      <td>1</td>\n",
       "      <td>female</td>\n",
       "      <td>53.1000</td>\n",
       "      <td>35.0</td>\n",
       "      <td>S</td>\n",
       "      <td>1</td>\n",
       "    </tr>\n",
       "    <tr>\n",
       "      <th>4</th>\n",
       "      <td>5</td>\n",
       "      <td>0</td>\n",
       "      <td>3</td>\n",
       "      <td>male</td>\n",
       "      <td>8.0500</td>\n",
       "      <td>35.0</td>\n",
       "      <td>S</td>\n",
       "      <td>0</td>\n",
       "    </tr>\n",
       "  </tbody>\n",
       "</table>\n",
       "</div>"
      ],
      "text/plain": [
       "   PassengerId  Survived  Pclass     Sex     Fare  Age_new Embarked_new  \\\n",
       "0            1         0       3    male   7.2500     22.0            S   \n",
       "1            2         1       1  female  71.2833     38.0            C   \n",
       "2            3         1       3  female   7.9250     26.0            S   \n",
       "3            4         1       1  female  53.1000     35.0            S   \n",
       "4            5         0       3    male   8.0500     35.0            S   \n",
       "\n",
       "   Family  \n",
       "0       1  \n",
       "1       1  \n",
       "2       0  \n",
       "3       1  \n",
       "4       0  "
      ]
     },
     "execution_count": 21,
     "metadata": {},
     "output_type": "execute_result"
    }
   ],
   "source": [
    "#Getting a new view of the table with Age_new, Embarked_new and Family columns added\n",
    "titanic_df.head()"
   ]
  },
  {
   "cell_type": "markdown",
   "metadata": {},
   "source": [
    "\n",
    "Below, I have printed out some general statistics for different fields of the table based on the rate of survival."
   ]
  },
  {
   "cell_type": "code",
   "execution_count": 23,
   "metadata": {
    "collapsed": false
   },
   "outputs": [
    {
     "name": "stdout",
     "output_type": "stream",
     "text": [
      "        Survived\n",
      "Pclass          \n",
      "1            216\n",
      "2            184\n",
      "3            491\n",
      "----------------------------------------------------------------------------------------\n",
      "               Age_new\n",
      "Pclass Sex            \n",
      "1      female       94\n",
      "       male        122\n",
      "2      female       76\n",
      "       male        108\n",
      "3      female      144\n",
      "       male        347\n",
      "----------------------------------------------------------------------------------------\n",
      "        Survived\n",
      "Sex             \n",
      "female       314\n",
      "male         577\n",
      "----------------------------------------------------------------------------------------\n",
      "        Survived\n",
      "Family          \n",
      "0            537\n",
      "1            161\n",
      "2            102\n",
      "3             29\n",
      "4             15\n",
      "5             22\n",
      "6             12\n",
      "7              6\n",
      "10             7\n"
     ]
    }
   ],
   "source": [
    "print titanic_df.groupby(['Pclass'])[['Survived']].count()\n",
    "print '----------------------------------------------------------------------------------------'\n",
    "print titanic_df.groupby(['Pclass', 'Sex'])[['Age_new']].count()\n",
    "print '----------------------------------------------------------------------------------------'\n",
    "print titanic_df.groupby(['Sex'])[['Survived']].count()\n",
    "print '----------------------------------------------------------------------------------------'\n",
    "print titanic_df.groupby(['Family'])[['Survived']].count()"
   ]
  },
  {
   "cell_type": "markdown",
   "metadata": {},
   "source": [
    "### 3. Exploration - Visualizations and Statistical Summaries"
   ]
  },
  {
   "cell_type": "markdown",
   "metadata": {},
   "source": [
    "#### 3.1. Plots"
   ]
  },
  {
   "cell_type": "code",
   "execution_count": 24,
   "metadata": {
    "collapsed": false
   },
   "outputs": [
    {
     "data": {
      "text/plain": [
       "<matplotlib.text.Text at 0x11a941390>"
      ]
     },
     "execution_count": 24,
     "metadata": {},
     "output_type": "execute_result"
    },
    {
     "data": {
      "image/png": "[encoded data removed]",
      "text/plain": [
       "<matplotlib.figure.Figure at 0x11a8e7710>"
      ]
     },
     "metadata": {},
     "output_type": "display_data"
    }
   ],
   "source": [
    "#Cabin \n",
    "\n",
    "import matplotlib.pyplot as plt\n",
    "\n",
    "#A plot that shows the rate of survival among the 3 class ranks\n",
    "fig, axes = plt.subplots(figsize=(8,5))\n",
    "sns.set_style('whitegrid')\n",
    "plt = sns.countplot(x=\"Pclass\", hue='Survived', data=titanic_df)\n",
    "plt.set_title('Rate of Survival among Different Class Ranks')"
   ]
  },
  {
   "cell_type": "markdown",
   "metadata": {},
   "source": [
    "This chart shows that the rate of survival for cabin rank 1 was the highest. Cabin rank 3 had the lowest rate of survival.\n",
    "\n",
    "----------------------------------------------------------------------------------------------------------------------"
   ]
  },
  {
   "cell_type": "code",
   "execution_count": 25,
   "metadata": {
    "collapsed": false
   },
   "outputs": [
    {
     "data": {
      "text/plain": [
       "<matplotlib.text.Text at 0x11aac7a50>"
      ]
     },
     "execution_count": 25,
     "metadata": {},
     "output_type": "execute_result"
    },
    {
     "data": {
      "image/png": "[encoded data removed]",
      "text/plain": [
       "<matplotlib.figure.Figure at 0x11a5b8c50>"
      ]
     },
     "metadata": {},
     "output_type": "display_data"
    }
   ],
   "source": [
    "#Family\n",
    "\n",
    "import matplotlib.pyplot as plt\n",
    "\n",
    "#A plot that shows the rate of survival among those passengers with family members\n",
    "fig, axes = plt.subplots(figsize=(20,5))\n",
    "sns.set_style('whitegrid')\n",
    "plt = sns.barplot(x=\"Family\", y='Survived', data=titanic_df)\n",
    "plt.set_title('Rate of Survival among Passengers with Family Members')"
   ]
  },
  {
   "cell_type": "markdown",
   "metadata": {},
   "source": [
    "This chart shows that the rate of survival for families with 3 family members were the highest. There is no other significant analysis we can conclude based on this chart.\n",
    "\n",
    "----------------------------------------------------------------------------------------------------------------------"
   ]
  },
  {
   "cell_type": "code",
   "execution_count": 26,
   "metadata": {
    "collapsed": false
   },
   "outputs": [
    {
     "data": {
      "text/plain": [
       "<matplotlib.text.Text at 0x11baf7990>"
      ]
     },
     "execution_count": 26,
     "metadata": {},
     "output_type": "execute_result"
    },
    {
     "data": {
      "image/png": "[encoded data removed]",
      "text/plain": [
       "<matplotlib.figure.Figure at 0x11a56ad10>"
      ]
     },
     "metadata": {},
     "output_type": "display_data"
    }
   ],
   "source": [
    "#Sex\n",
    "\n",
    "import matplotlib.pyplot as plt\n",
    "\n",
    "#To be able to draw two plots in the same ipython cell\n",
    "fig, axs = plt.subplots(1,2, figsize=(15,5))\n",
    "\n",
    "#A plot that shows the rate of survival between men and women among the 3 different classes\n",
    "sns.set_style('whitegrid')\n",
    "plt = sns.barplot(y=\"Survived\", x=\"Sex\", hue='Pclass', data=titanic_df, ax=axs[0])\n",
    "plt.set_title('Rate of Survival between Men and Women among Different Cabin Ranks')\n",
    "\n",
    "#A plot from only women who survived among different cabin classes \n",
    "plt = sns.barplot(y=\"Survived\", x = \"Sex\", hue='Pclass', data = titanic_df[titanic_df['Sex'] == 'female'], ax=axs[1])\n",
    "plt.set_title('Rate of Survival of Only Women among Different Cabin Ranks')"
   ]
  },
  {
   "cell_type": "markdown",
   "metadata": {},
   "source": [
    "These charts show that overall, women had a higher chance of survival in each cabin rank. Women from cabin rank 1 had the highest rate of survival among all.\n",
    "\n",
    "----------------------------------------------------------------------------------------------------------------------"
   ]
  },
  {
   "cell_type": "code",
   "execution_count": 27,
   "metadata": {
    "collapsed": false
   },
   "outputs": [
    {
     "data": {
      "text/plain": [
       "<matplotlib.text.Text at 0x11c087550>"
      ]
     },
     "execution_count": 27,
     "metadata": {},
     "output_type": "execute_result"
    },
    {
     "data": {
      "image/png": "[encoded data removed]",
      "text/plain": [
       "<matplotlib.figure.Figure at 0x11bb9e350>"
      ]
     },
     "metadata": {},
     "output_type": "display_data"
    },
    {
     "data": {
      "image/png": "[encoded data removed]",
      "text/plain": [
       "<matplotlib.figure.Figure at 0x11c04c190>"
      ]
     },
     "metadata": {},
     "output_type": "display_data"
    }
   ],
   "source": [
    "#Age\n",
    "\n",
    "import matplotlib.pyplot as plt\n",
    "\n",
    "#A bar plot that shows the rate of survival among different ages using the average age\n",
    "fig, axes1 = plt.subplots(1,1, figsize=(20,5))\n",
    "sns.set_style('whitegrid')\n",
    "average_age = titanic_df[['Age_new', 'Survived']].groupby(['Age_new'], as_index=False).mean()\n",
    "average_age['Age_new'] = average_age['Age_new'].astype(numpy.int64)\n",
    "plt = sns.barplot(x='Age_new', y='Survived', data=average_age)\n",
    "plt.set_title('Average Age of Survival among the Passengers')\n",
    "\n",
    "#A scatter plot of the rate of survival based on average age\n",
    "plt = average_age.plot(kind='scatter', x='Age_new', y='Survived')\n",
    "plt.set_title('Rate of Survival among All Passengers based on Their Age')"
   ]
  },
  {
   "cell_type": "markdown",
   "metadata": {},
   "source": [
    "From the scatter plot drawn above, we can see that the number of survivals between age of 0 and 20 seems to be more than the rest. However, this cannot solely be a measure to conclude that people younger than 20 had a higher chance of survival.\n",
    "\n",
    "----------------------------------------------------------------------------------------------------------------------"
   ]
  },
  {
   "cell_type": "markdown",
   "metadata": {},
   "source": [
    "#### 3.2. Correlations"
   ]
  },
  {
   "cell_type": "code",
   "execution_count": 28,
   "metadata": {
    "collapsed": false
   },
   "outputs": [
    {
     "name": "stdout",
     "output_type": "stream",
     "text": [
      "\n",
      "Class rate correlation with rate of survival:  -0.338481035961\n",
      "\n",
      "Family members correlation with rate of survival:  0.0166389892827\n",
      "\n",
      "Rate of survival among women in different cabin classes:  0.543351380658\n",
      "\n",
      "Age correlation with rate of survival:  -0.0538055712561\n"
     ]
    }
   ],
   "source": [
    "#Writing a function to calculate correlations between different variables\n",
    "def correlation(x, y):\n",
    "    standardized_x = (x - x.mean()) / x.std(ddof=0)\n",
    "    standardized_y = (y - y.mean()) / y.std(ddof=0)\n",
    "    \n",
    "    return (standardized_x * standardized_y).mean()\n",
    "\n",
    "pclass_rate = titanic_df['Pclass']\n",
    "survived_rate = titanic_df['Survived']\n",
    "age_rate = titanic_df['Age_new']\n",
    "embarked_rate = titanic_df['Embarked_new']\n",
    "family_rate = titanic_df['Family']\n",
    "\n",
    "#Cabin\n",
    "#How does the class rank (1st, 2nd, 3rd) correlates with the rate of survival?\n",
    "print '\\nClass rate correlation with rate of survival: ', correlation(pclass_rate, survived_rate)\n",
    "\n",
    "#Family\n",
    "#Did those who were a family have a higher chance or survival than those who were travelling alone?\n",
    "print '\\nFamily members correlation with rate of survival: ', correlation(family_rate, survived_rate)\n",
    "\n",
    "#Women\n",
    "#How did the rate of survival differ among women in the difference classes? \n",
    "#(i.e. number of women in a higher class who survived were more than women who survived but were in a a lower class rate)\n",
    "print '\\nRate of survival among women in different cabin classes: ', correlation ((titanic_df['Sex'] == 'female'), survived_rate)\n",
    "\n",
    "#Age\n",
    "#How does age correlates with the rate of survival?\n",
    "print '\\nAge correlation with rate of survival: ', correlation(age_rate, survived_rate)\n"
   ]
  },
  {
   "cell_type": "markdown",
   "metadata": {},
   "source": [
    "#### 3.3. Confidence Intervals"
   ]
  },
  {
   "cell_type": "code",
   "execution_count": 29,
   "metadata": {
    "collapsed": false
   },
   "outputs": [
    {
     "name": "stdout",
     "output_type": "stream",
     "text": [
      "\n",
      "The CI between Pclass and Survival rate: \n",
      "(-0.33848103596101536, 2.5370473879804202e-25)\n",
      "\n",
      "The CI between Family and Survival rate: \n",
      "(0.016638989282745237, 0.61989112213449693)\n",
      "\n",
      "The CI between Age and Survival rate: \n",
      "(-0.053805571256140404, 0.10849730626196291)\n",
      "\n",
      "The CI between Females's survival rate among different classes: \n",
      "(0.54335138065775523, 1.4060661308795969e-69)\n",
      "\n",
      "The CI between Males's survival rate among different classes: \n",
      "(-0.54335138065775535, 1.4060661308795171e-69)\n"
     ]
    }
   ],
   "source": [
    "#Importing the statistical package scipy to do the confidence intervals (CI) for the above questions\n",
    "from scipy import stats\n",
    "\n",
    "print '\\nThe CI between Pclass and Survival rate: \\n', stats.pearsonr(titanic_df['Survived'], titanic_df['Pclass'])\n",
    "print '\\nThe CI between Family and Survival rate: \\n', stats.pearsonr(titanic_df['Survived'], titanic_df['Family'])\n",
    "print '\\nThe CI between Age and Survival rate: \\n', stats.pearsonr(titanic_df['Survived'], titanic_df['Age_new'])\n",
    "print '\\nThe CI between Females\\'s survival rate among different classes: \\n', stats.pearsonr(titanic_df['Survived'], (titanic_df['Sex'] == 'female'))\n",
    "print '\\nThe CI between Males\\'s survival rate among different classes: \\n', stats.pearsonr(titanic_df['Survived'], (titanic_df['Sex'] == 'male'))"
   ]
  },
  {
   "cell_type": "markdown",
   "metadata": {},
   "source": [
    "### 4. Limitations of the Analysis\n",
    "\n",
    "#### 4.1. Missing Values in the Age Category\n",
    "\n",
    "From the 891 passengers available on the ship, 177 were missing the values of their ages, which is roughly around 20% of the whole data. To make up for this limitation in the analysis there were multiple ways to deal with the missing data. For example:\n",
    "\n",
    "- Removing the NaN values and work with only 714 number of ages for the analysis\n",
    "- Filling in the NaN values with a constant variable, such as the median\n",
    "- Filling in the NaN values with random variables, based on mean and the standard deviation\n",
    "\n",
    "I chose the 3rd option because I did not want to work with only 80% of the data when doing analysis on the age and rate of survival. On the other hand I did not choose using the median since it could change the normal distribution significantly. Therefor, I went for using random numbers generated by 2-standard deviation above and 2-standard deviation below the mean. This way, I could still keep the shape of the distribution, as well as not losing 177 passengers' data.\n",
    "\n",
    "However, replacing the NaN values with random numbers mean that we still do not have the actual numbers to work with, and this can cause errors in the conclusion and the correlations made.\n",
    "\n",
    "#### 4.2. Limitations of Making Assumptions without Statistical Testing\n",
    "\n",
    "The reliability of statistical relationships has an effect on the judgements we make about a population. Some examples of these statistical inferences are calculating confidence intervals, or doing hypothesis testing. In this project, I have calculated confidence intervals and used it as one measure of judgement about the data. Also, using plots and calculating the correlations helped me with making conclusions. However, these cannot solely be the measures to conclude any judgement with high probability.\n",
    "\n",
    "I had a limitation of performing hypothesis testing (the t-test) on this data. The reason for that was that the survival rate between the variables were significant. It was either 0 or 1 which could not give me a normal distribution to work with.\n",
    "\n",
    "Lack of hypothesis testing (e.g. t-test) can be a limitation in the assumptions we make about the data.\n",
    "\n",
    "#### 4.3. Does Correlation Mean Causation?\n",
    "\n",
    "The phrase 'Correlation does not imply causation' shows clearly how we cannot base our judgements only because two variables correlate with each other. There are many examples, in which two variables correlate with each other perfectly, but no assumption can be done based on them. (Take a look at here for some examples:\n",
    "http://www.fastcodesign.com/3030529/infographic-of-the-day/hilarious-graphs-prove-that-correlation-isnt-causation )\n",
    "\n",
    "Due to this limitation, by the correlation I get from the data in this dataset, I cannot imply causation. This means, for instance, if the age of passengers had a correlation with their rate of survival, only this does not imply that people who were younger were mostly those who survived.\n",
    "\n",
    "#### 4.4. Any Other Data That Could Help in the Analysis\n",
    "\n",
    "I think if we had the data from the people who actually got on the boat and the boats who were found and survived, this could also be a measure of analysis.\n"
   ]
  },
  {
   "cell_type": "markdown",
   "metadata": {},
   "source": [
    "---------------------------------------------------------------------------------------------------------------------\n",
    "\n",
    "### 5. Conclusions - Communication of Findings\n",
    "\n",
    "#### 5.1. Findings on Cabin\n",
    "\n",
    "In section 3.1 the plot shows that rate of survival is significantly lower for those passengers coming from a lower cabin rank (i.e. 3). It also shows that the number of those who survived from cabin class 1 was higher than those who didn't survive from the same cabin rank.\n",
    "\n",
    "In section 3.2 calculating the correlation between the cabin rank and the rate of survival, the -0.33 number shows a negative correlation between the cabin class rank and rate of survival. Those with a cabin class rank 1 (lower in number, but high in rank) had a higher chance of survival.\n",
    "\n",
    "Conclusion: The plot and the caluclations on correlation for the rate of survival based on different cabin ranks, show that the higher the cabin rank (i.e. 1) the higher the chance of survival. Although all this information shows this correlation, I am not still sure if the correlation can be significant; meaning a higher cabin rank resulted in a higher chance of survival.\n",
    "\n",
    "#### 5.2. Findings on Family\n",
    "\n",
    "In section 3.1 the plot shows that rate of survival for those with 3 family members is more than any other gorups, but the plot doesn't show any correlations between the number of family members and rate of survival.\n",
    "\n",
    "In section 3.2 according to the calculations for the correlation the 0.01 number shows a very small correlation between the number of family members and the rate of survival.\n",
    "\n",
    "Conclusion: The plot and the calculations on correlation do not show a strong correlation between the number of family members and their rate of survival.\n",
    "\n",
    "#### 5.3. Findings on Women\n",
    "\n",
    "In section 3.1 the plot shows that the rate of survival of women is more than men, and respectively the rate of survival of women among different cabin ranks is also different. Women from higher cabin ranks had a higher chance os survival.\n",
    "\n",
    "In section 3.2. calculating the correlation shows a positive 0.54 correlation for women and their rate of survival.\n",
    "\n",
    "Conclusion: The plot and the calculations on correlation show that there is a positive correlation for women and their rate of survival, comparing to men. Although all this information shows this correlation, I am not still sure if the correlation can be significant.\n",
    "\n",
    "#### 5.4. Findings on Age\n",
    "\n",
    "In section 3.1 there are 2 plots drawn for Age category. The barplot shows the average age and the rate of survival based on that, and the scatter plot shows how different ages are distributed. Based on the scatter plot, we can see that the distribution of survival rate between 0 and 20 is more than the rest of the plot. However, this might be due to the fact that there were more people between this age frame (0,20) on the titanic ship than, let's say, people over 70.\n",
    "\n",
    "In section 3.2 the calculation of correlations show a negative -0.06 correlation between age and the rate of survival; meaning the older a passenger was, the less chance for survival.\n",
    "\n",
    "Conclusion: Based on the plot, the calculation for correlation, and limitation of the analysis, we can't show a significant correlation between age and the rate of survival. Based on only this information, we cannot indicate whether the younger a passenger was, he/she had a higher chance of survival.\n"
   ]
  },
  {
   "cell_type": "markdown",
   "metadata": {
    "collapsed": true
   },
   "source": [
    "### 6. References\n",
    "\n",
    "The list of references mentioned here are only about those that gave me hints/tips on how to move foreward. For example, I used many links for Pandas documentation, or searched through Stack Overflow but have not included them in the references.\n",
    "\n",
    "http://pandas.pydata.org/pandas-docs/version/0.15.2/missing_data.html#cleaning-filling-missing-data\n",
    "https://stanford.edu/~mwaskom/software/seaborn/tutorial/categorical.html\n",
    "https://discussions.udacity.com/t/resources-for-correlation-between-variables/43731\n",
    "http://docs.scipy.org/doc/scipy-0.15.1/reference/generated/scipy.stats.ttest_ind.html\n",
    "http://www.scipy-lectures.org/packages/statistics/index.html\n",
    "http://pandas.pydata.org/pandas-docs/version/0.15.0/visualization.html#scatter-plot\n",
    "https://www.kaggle.com/omarelgabry/titanic/a-journey-through-titanic/discussion"
   ]
  }
 ],
 "metadata": {
  "anaconda-cloud": {},
  "kernelspec": {
   "display_name": "Python [Root]",
   "language": "python",
   "name": "Python [Root]"
  },
  "language_info": {
   "codemirror_mode": {
    "name": "ipython",
    "version": 2
   },
   "file_extension": ".py",
   "mimetype": "text/x-python",
   "name": "python",
   "nbconvert_exporter": "python",
   "pygments_lexer": "ipython2",
   "version": "2.7.12"
  }
 },
 "nbformat": 4,
 "nbformat_minor": 0
}
